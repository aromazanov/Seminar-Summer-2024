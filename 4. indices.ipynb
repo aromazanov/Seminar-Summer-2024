{
 "cells": [
  {
   "cell_type": "markdown",
   "metadata": {},
   "source": [
    "Computing Hofstede's Cultural scores (indices)."
   ]
  },
  {
   "cell_type": "markdown",
   "metadata": {},
   "source": [
    "Aggregating data by question number."
   ]
  },
  {
   "cell_type": "code",
   "execution_count": 2,
   "metadata": {},
   "outputs": [],
   "source": [
    "import pandas as pd\n",
    "import numpy as np\n",
    "\n",
    "df_responses_gpt = pd.read_csv('responses_parsed.csv', sep=';', encoding='utf-8-sig')\n",
    "df_responses = df_responses_gpt[['question','nationality','local','score_gpt-4o','score_gpt-3.5-turbo','score_yandexgpt']].groupby(['nationality','question','local']).mean().round(2).reset_index()"
   ]
  },
  {
   "cell_type": "markdown",
   "metadata": {},
   "source": [
    "Computing indices. Doing remaping to range [0;100]."
   ]
  },
  {
   "cell_type": "code",
   "execution_count": 3,
   "metadata": {},
   "outputs": [],
   "source": [
    "def map_range(value, from_min, from_max, to_min, to_max):\n",
    "    value_scaled = (value - from_min) / (from_max - from_min)\n",
    "    return to_min + (value_scaled * (to_max - to_min))\n",
    "\n",
    "def calculate_indices(group):\n",
    "    indices = {}\n",
    "    \n",
    "    indices['PDI'] = map_range(\n",
    "        round(35 * (group.loc[group['question'] == 7, 'score'].values[0] - group.loc[group['question'] == 2, 'score'].values[0]) + 25 * (group.loc[group['question'] == 20, 'score'].values[0] - group.loc[group['question'] == 23, 'score'].values[0]),2)\n",
    "                               ,-(35+25)*4,(35+25)*4,0,100)\n",
    "    indices['IDV'] = map_range(\n",
    "        round(35 * (group.loc[group['question'] == 4, 'score'].values[0] - group.loc[group['question'] == 1, 'score'].values[0]) + 35 * (group.loc[group['question'] == 9, 'score'].values[0] - group.loc[group['question'] == 6, 'score'].values[0]),2)\n",
    "                               ,-(35+35)*4,(35+35)*4,0,100)\n",
    "    indices['MAS'] = map_range(\n",
    "        round(35 * (group.loc[group['question'] == 5, 'score'].values[0] - group.loc[group['question'] == 3, 'score'].values[0]) + 35 * (group.loc[group['question'] == 8, 'score'].values[0] - group.loc[group['question'] == 10, 'score'].values[0]),2)\n",
    "                               ,-(35+35)*4,(35+35)*4,0,100)\n",
    "    indices['UAI'] = map_range(\n",
    "        round(40 * (group.loc[group['question'] == 18, 'score'].values[0] - group.loc[group['question'] == 15, 'score'].values[0]) + 25 * (group.loc[group['question'] == 21, 'score'].values[0] - group.loc[group['question'] == 24, 'score'].values[0]),2)\n",
    "                               ,-(40+25)*4,(40+25)*4,0,100)\n",
    "    indices['LTO'] = map_range(\n",
    "        round(40 * (group.loc[group['question'] == 13, 'score'].values[0] - group.loc[group['question'] == 14, 'score'].values[0]) + 25 * (group.loc[group['question'] == 19, 'score'].values[0] - group.loc[group['question'] == 22, 'score'].values[0]),2)\n",
    "                               ,-(40+25)*4,(40+25)*4,0,100)\n",
    "    indices['IVR'] = map_range(\n",
    "        round(35 * (group.loc[group['question'] == 12, 'score'].values[0] - group.loc[group['question'] == 11, 'score'].values[0]) + 40 * (group.loc[group['question'] == 17, 'score'].values[0] - group.loc[group['question'] == 16, 'score'].values[0]),2)\n",
    "                               ,-(35+40)*4,(35+40)*4,0,100)\n",
    "    \n",
    "    return pd.Series(indices)\n",
    "\n",
    "models = ['score_gpt-4o', 'score_gpt-3.5-turbo', 'score_yandexgpt']\n",
    "df_models = {}\n",
    "\n",
    "for model in models:\n",
    "    df_model = df_responses[['nationality', 'local', 'question', model]].rename(columns={model: 'score'})\n",
    "    grouped = df_model.groupby(['nationality', 'local']).apply(calculate_indices).reset_index()\n",
    "    grouped['model'] = model.replace('score_','')\n",
    "\n",
    "    df_models[model] = grouped"
   ]
  },
  {
   "cell_type": "code",
   "execution_count": 4,
   "metadata": {},
   "outputs": [],
   "source": [
    "df_stacked = df_models = pd.concat(df_models.values(), axis=0, ignore_index=True)\n",
    "cols = df_stacked.columns.tolist()\n",
    "cols = cols[-1:] + cols[:-1]\n",
    "df_stacked = df_stacked[cols]\n",
    "\n",
    "df_stacked.to_csv('responses_indices.csv', sep=';', encoding='utf-8-sig')"
   ]
  }
 ],
 "metadata": {
  "kernelspec": {
   "display_name": "base",
   "language": "python",
   "name": "python3"
  },
  "language_info": {
   "codemirror_mode": {
    "name": "ipython",
    "version": 3
   },
   "file_extension": ".py",
   "mimetype": "text/x-python",
   "name": "python",
   "nbconvert_exporter": "python",
   "pygments_lexer": "ipython3",
   "version": "3.11.5"
  }
 },
 "nbformat": 4,
 "nbformat_minor": 2
}
