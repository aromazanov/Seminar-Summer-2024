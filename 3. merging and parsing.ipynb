{
 "cells": [
  {
   "cell_type": "markdown",
   "metadata": {},
   "source": [
    "Parsing responses using GPT-4o"
   ]
  },
  {
   "cell_type": "markdown",
   "metadata": {},
   "source": [
    "Collecting the responses from all the models."
   ]
  },
  {
   "cell_type": "code",
   "execution_count": 2,
   "metadata": {},
   "outputs": [],
   "source": [
    "import pandas as pd\n",
    "\n",
    "df_prompts = pd.read_csv('prompts.csv', sep=';', encoding='utf-8-sig')\n",
    "df_openai = pd.read_csv('responses_openAI.csv', sep=';', encoding='utf-8-sig')\n",
    "df_yandexgpt = pd.read_csv('responses_yandexGPT.csv', sep=';', encoding='utf-8-sig')"
   ]
  },
  {
   "cell_type": "markdown",
   "metadata": {},
   "source": [
    "Merging responses into one dataframe."
   ]
  },
  {
   "cell_type": "code",
   "execution_count": 3,
   "metadata": {},
   "outputs": [],
   "source": [
    "df_gpt4o = df_openai[df_openai['model'] == 'gpt-4o'].reset_index()[['question','response']].rename(columns={'response':'gpt-4o'})\n",
    "df_gpt35turbo = df_openai[df_openai['model'] == 'gpt-3.5-turbo'].reset_index()[['question','response']].rename(columns={'response':'gpt-3.5-turbo'})\n",
    "df_openai_unstack = pd.merge(df_gpt4o,df_gpt35turbo,left_index=True,right_index=True)\n",
    "\n",
    "df_responses = pd.merge(df_openai_unstack,df_yandexgpt.reset_index()[['question','response']].rename(columns={'response':'yandexgpt'}),left_index=True,right_index=True)[['question','gpt-4o','gpt-3.5-turbo','yandexgpt']].rename(columns={'question':'prompt'})\n",
    "\n",
    "df_parsing_task = pd.merge(df_responses,df_prompts,how='left',on='prompt').drop(columns=['Unnamed: 0'])"
   ]
  },
  {
   "cell_type": "markdown",
   "metadata": {},
   "source": [
    "Forming prompts for parsing with GPT-4o."
   ]
  },
  {
   "cell_type": "code",
   "execution_count": 10,
   "metadata": {},
   "outputs": [],
   "source": [
    "task = 'There are user query and answers from three llm models. Could you parse these outputs into the following format?\\n\\n{\\n\\'model_1\\': int, # number from 1 to 5 based on a corresponding model answer, if there are multiple answers then the average of them, or null if it\\'s impossible to tell based on answer\\n\\'model_2\\': int, # number from 1 to 5 based on a corresponding model answer, if there are multiple answers then the average of them, or null if it\\'s impossible to tell based on answer\\n\\'model_3\\': int, # number from 1 to 5 based on a corresponding model answer, if there are multiple answers then the average of them, or null if it\\'s impossible to tell based on answer\\n}\\nPlease, give your own answer using only format above. Don\\'t provide any additional comments. Your data for analysis:\\n\\n'\n",
    "df_parsing_task['combined'] = df_parsing_task.apply(lambda row: f\"{task}User query: {row['prompt']}\\n\\nModel 1: {row['gpt-4o']}\\n\\nModel 2: {row['gpt-3.5-turbo']}\\n\\nModel 3: {row['yandexgpt']}\", axis=1)"
   ]
  },
  {
   "cell_type": "markdown",
   "metadata": {},
   "source": [
    "Setting up parsing."
   ]
  },
  {
   "cell_type": "code",
   "execution_count": 6,
   "metadata": {},
   "outputs": [],
   "source": [
    "import json\n",
    "\n",
    "with open('api_keys.json') as json_file:\n",
    "    apikeys = json.load(json_file)"
   ]
  },
  {
   "cell_type": "code",
   "execution_count": 7,
   "metadata": {},
   "outputs": [],
   "source": [
    "apikey = apikeys['openai']"
   ]
  },
  {
   "cell_type": "code",
   "execution_count": 8,
   "metadata": {},
   "outputs": [],
   "source": [
    "from openai import OpenAI\n",
    "\n",
    "def get_response_from_chatgpt(prompt, gptmodel):\n",
    "    client = OpenAI(api_key=apikey)\n",
    "    response = client.chat.completions.create(\n",
    "    messages=[\n",
    "        {\n",
    "            \"role\": \"user\",\n",
    "            \"content\": prompt,\n",
    "        }\n",
    "    ],\n",
    "    model=gptmodel)\n",
    "    return response.choices[0].message.content"
   ]
  },
  {
   "cell_type": "markdown",
   "metadata": {},
   "source": [
    "Parsing."
   ]
  },
  {
   "cell_type": "code",
   "execution_count": null,
   "metadata": {},
   "outputs": [],
   "source": [
    "responses = []\n",
    "\n",
    "for prompt in df_parsing_task['combined']:\n",
    "    message = get_response_from_chatgpt(prompt, 'gpt-4o')\n",
    "    responses.append((prompt,message))"
   ]
  },
  {
   "cell_type": "code",
   "execution_count": 6,
   "metadata": {},
   "outputs": [],
   "source": [
    "import ast\n",
    "\n",
    "parsed = []\n",
    "\n",
    "for (prompt,message) in responses:\n",
    "    try:        \n",
    "        parsed.append((prompt,)+tuple(ast.literal_eval(message.replace('null','None')).values()))\n",
    "    except:\n",
    "        print(message)\n",
    "        continue"
   ]
  },
  {
   "cell_type": "code",
   "execution_count": null,
   "metadata": {},
   "outputs": [],
   "source": [
    "df_parsed = pd.DataFrame(parsed, columns=['combined','score_gpt-4o','score_gpt-3.5-turbo','score_yandexgpt'])\n",
    "\n",
    "df = pd.merge(df_parsing_task,df_parsed,how='left',on='combined')\n",
    "\n",
    "df.to_csv('responses_parsed.csv', sep=';', encoding='utf-8-sig')\n",
    "df"
   ]
  }
 ],
 "metadata": {
  "kernelspec": {
   "display_name": "base",
   "language": "python",
   "name": "python3"
  },
  "language_info": {
   "codemirror_mode": {
    "name": "ipython",
    "version": 3
   },
   "file_extension": ".py",
   "mimetype": "text/x-python",
   "name": "python",
   "nbconvert_exporter": "python",
   "pygments_lexer": "ipython3",
   "version": "3.11.5"
  }
 },
 "nbformat": 4,
 "nbformat_minor": 2
}
