{
 "cells": [
  {
   "cell_type": "markdown",
   "metadata": {},
   "source": [
    "Probing YandexGPTLite model. Each question to be probed 10 times in a row in isolation from any context.\n",
    "\n",
    "Docs:\n",
    "https://yandex.cloud/ru/docs/foundation-models/operations/yandexgpt/create-prompt\n",
    "\n",
    "https://yandex.cloud/ru/docs/foundation-models/concepts/yandexgpt/"
   ]
  },
  {
   "cell_type": "code",
   "execution_count": 5,
   "metadata": {},
   "outputs": [],
   "source": [
    "import json\n",
    "\n",
    "with open('api_keys.json') as json_file:\n",
    "    apikeys = json.load(json_file)"
   ]
  },
  {
   "cell_type": "code",
   "execution_count": 2,
   "metadata": {},
   "outputs": [],
   "source": [
    "import requests\n",
    "\n",
    "oauth = apikeys['yandexgpt_oauth']\n",
    "folder = apikeys['yandexgpt_folder']\n",
    "\n",
    "url = 'https://iam.api.cloud.yandex.net/iam/v1/tokens'\n",
    "data = { 'yandexPassportOauthToken': oauth }\n",
    "\n",
    "response = requests.post(url, json=data)\n",
    "\n",
    "auth = response.json()['iamToken']"
   ]
  },
  {
   "cell_type": "code",
   "execution_count": null,
   "metadata": {},
   "outputs": [],
   "source": [
    "import pandas as pd\n",
    "\n",
    "df_prompts = pd.read_csv('prompts.csv', sep=';', encoding='utf-8-sig')\n",
    "\n",
    "df_prompts"
   ]
  },
  {
   "cell_type": "markdown",
   "metadata": {},
   "source": [
    "Subsequently calling the api might lead to throttle."
   ]
  },
  {
   "cell_type": "code",
   "execution_count": 3,
   "metadata": {},
   "outputs": [],
   "source": [
    "def get_response_from_yandexgpt(prompt):\n",
    "    url = \"https://llm.api.cloud.yandex.net/foundationModels/v1/completion\"\n",
    "    headers = {\n",
    "        \"Content-Type\": \"application/json\",\n",
    "        \"Authorization\": f\"Bearer {auth}\",\n",
    "        \"x-folder-id\": folder\n",
    "    }\n",
    "    message = {\n",
    "      \"modelUri\": f\"gpt://{folder}/yandexgpt-lite/rc\",\n",
    "      \"completionOptions\": {\n",
    "        \"stream\": False,\n",
    "        \"temperature\": 0.3\n",
    "      },\n",
    "      \"messages\": [\n",
    "        {\n",
    "          \"role\": \"user\",\n",
    "          \"text\": prompt\n",
    "        }\n",
    "      ]\n",
    "    }\n",
    "\n",
    "    response = requests.post(url, headers=headers, json=message)\n",
    "    return response.json()['result']['alternatives'][0]['message']['text']"
   ]
  },
  {
   "cell_type": "code",
   "execution_count": 4,
   "metadata": {},
   "outputs": [],
   "source": [
    "import time\n",
    "responses = []\n",
    "\n",
    "for prompt in df_prompts['prompt']:\n",
    "    for i in range(10):\n",
    "        message = get_response_from_yandexgpt(prompt)\n",
    "        responses.append((prompt, message))\n",
    "        time.sleep(0.5)"
   ]
  },
  {
   "cell_type": "code",
   "execution_count": null,
   "metadata": {},
   "outputs": [],
   "source": [
    "df_responses = pd.DataFrame(responses, columns=['question','response'])\n",
    "\n",
    "df_responses.to_csv('responses_yandexGPT.csv', sep=';', encoding='utf-8-sig')\n",
    "\n",
    "df_responses"
   ]
  }
 ],
 "metadata": {
  "kernelspec": {
   "display_name": "base",
   "language": "python",
   "name": "python3"
  },
  "language_info": {
   "codemirror_mode": {
    "name": "ipython",
    "version": 3
   },
   "file_extension": ".py",
   "mimetype": "text/x-python",
   "name": "python",
   "nbconvert_exporter": "python",
   "pygments_lexer": "ipython3",
   "version": "3.11.5"
  }
 },
 "nbformat": 4,
 "nbformat_minor": 2
}
