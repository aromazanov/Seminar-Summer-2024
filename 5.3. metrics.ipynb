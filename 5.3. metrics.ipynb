{
 "cells": [
  {
   "cell_type": "markdown",
   "metadata": {},
   "source": [
    "Making comparisons with golden standard grouped by nationality. Cosine similarity and Spearman's correlation coefficient."
   ]
  },
  {
   "cell_type": "markdown",
   "metadata": {},
   "source": [
    "Indices import."
   ]
  },
  {
   "cell_type": "code",
   "execution_count": 1,
   "metadata": {},
   "outputs": [],
   "source": [
    "import pandas as pd\n",
    "import numpy as np\n",
    "from scipy.stats import spearmanr\n",
    "from scipy.spatial.distance import cosine\n",
    "\n",
    "df_responses = pd.read_csv('responses_indices.csv', sep=';', encoding='utf-8-sig', index_col=0)"
   ]
  },
  {
   "cell_type": "markdown",
   "metadata": {},
   "source": [
    "Golden standard data import. Selecting American and Russian rows."
   ]
  },
  {
   "cell_type": "code",
   "execution_count": 2,
   "metadata": {},
   "outputs": [],
   "source": [
    "df_golden = pd.read_csv('golden_scores.csv', sep=';', encoding='utf-8-sig', na_values=['#NULL!'])\n",
    "\n",
    "df_golden = df_golden[(df_golden['ctr'] == 'RUS') | (df_golden['ctr'] == 'USA')]\n",
    "df_golden = df_golden[df_golden.columns[2:]]\n",
    "df_golden['model'] = ['golden', 'golden']\n",
    "df_golden['nationality'] = ['Russian', 'American']"
   ]
  },
  {
   "cell_type": "markdown",
   "metadata": {},
   "source": [
    "Joining dataframes."
   ]
  },
  {
   "cell_type": "code",
   "execution_count": 3,
   "metadata": {},
   "outputs": [],
   "source": [
    "df_combined = pd.concat([df_responses, df_golden], ignore_index=True)"
   ]
  },
  {
   "cell_type": "markdown",
   "metadata": {},
   "source": [
    "Computing metrics for American nationality."
   ]
  },
  {
   "cell_type": "code",
   "execution_count": 4,
   "metadata": {},
   "outputs": [
    {
     "name": "stderr",
     "output_type": "stream",
     "text": [
      "C:\\Users\\aesrt\\AppData\\Local\\Temp\\ipykernel_15708\\505494968.py:5: SettingWithCopyWarning: \n",
      "A value is trying to be set on a copy of a slice from a DataFrame.\n",
      "Try using .loc[row_indexer,col_indexer] = value instead\n",
      "\n",
      "See the caveats in the documentation: https://pandas.pydata.org/pandas-docs/stable/user_guide/indexing.html#returning-a-view-versus-a-copy\n",
      "  df_en['cosine'] = df_en.iloc[:,3:].apply(lambda row: round(1-cosine(row, last_row),2), axis=1)\n",
      "C:\\Users\\aesrt\\AppData\\Local\\Temp\\ipykernel_15708\\505494968.py:6: SettingWithCopyWarning: \n",
      "A value is trying to be set on a copy of a slice from a DataFrame.\n",
      "Try using .loc[row_indexer,col_indexer] = value instead\n",
      "\n",
      "See the caveats in the documentation: https://pandas.pydata.org/pandas-docs/stable/user_guide/indexing.html#returning-a-view-versus-a-copy\n",
      "  df_en['corr'] = spearman_correlations.apply(lambda x: x[0])\n",
      "C:\\Users\\aesrt\\AppData\\Local\\Temp\\ipykernel_15708\\505494968.py:7: SettingWithCopyWarning: \n",
      "A value is trying to be set on a copy of a slice from a DataFrame.\n",
      "Try using .loc[row_indexer,col_indexer] = value instead\n",
      "\n",
      "See the caveats in the documentation: https://pandas.pydata.org/pandas-docs/stable/user_guide/indexing.html#returning-a-view-versus-a-copy\n",
      "  df_en['pvalue'] = spearman_correlations.apply(lambda x: x[1])\n"
     ]
    }
   ],
   "source": [
    "df_en = df_combined[df_combined['nationality'] == 'American']\n",
    "last_row = df_en.iloc[-1, 3:]\n",
    "spearman_correlations = df_en.iloc[:-1, 3:].apply(lambda row: spearmanr(row, last_row), axis=1)\n",
    "\n",
    "df_en['cosine'] = df_en.iloc[:,3:].apply(lambda row: round(1-cosine(row, last_row),2), axis=1)\n",
    "df_en['corr'] = spearman_correlations.apply(lambda x: x[0])\n",
    "df_en['pvalue'] = spearman_correlations.apply(lambda x: x[1])"
   ]
  },
  {
   "cell_type": "markdown",
   "metadata": {},
   "source": [
    "Computing metrics for Russian nationality."
   ]
  },
  {
   "cell_type": "code",
   "execution_count": 5,
   "metadata": {},
   "outputs": [
    {
     "name": "stderr",
     "output_type": "stream",
     "text": [
      "C:\\Users\\aesrt\\AppData\\Local\\Temp\\ipykernel_15708\\1141221617.py:5: SettingWithCopyWarning: \n",
      "A value is trying to be set on a copy of a slice from a DataFrame.\n",
      "Try using .loc[row_indexer,col_indexer] = value instead\n",
      "\n",
      "See the caveats in the documentation: https://pandas.pydata.org/pandas-docs/stable/user_guide/indexing.html#returning-a-view-versus-a-copy\n",
      "  df_ru['cosine'] = df_ru.iloc[:,3:].apply(lambda row: round(1-cosine(row, last_row),2), axis=1)\n",
      "C:\\Users\\aesrt\\AppData\\Local\\Temp\\ipykernel_15708\\1141221617.py:6: SettingWithCopyWarning: \n",
      "A value is trying to be set on a copy of a slice from a DataFrame.\n",
      "Try using .loc[row_indexer,col_indexer] = value instead\n",
      "\n",
      "See the caveats in the documentation: https://pandas.pydata.org/pandas-docs/stable/user_guide/indexing.html#returning-a-view-versus-a-copy\n",
      "  df_ru['corr'] = spearman_correlations.apply(lambda x: x[0])\n",
      "C:\\Users\\aesrt\\AppData\\Local\\Temp\\ipykernel_15708\\1141221617.py:7: SettingWithCopyWarning: \n",
      "A value is trying to be set on a copy of a slice from a DataFrame.\n",
      "Try using .loc[row_indexer,col_indexer] = value instead\n",
      "\n",
      "See the caveats in the documentation: https://pandas.pydata.org/pandas-docs/stable/user_guide/indexing.html#returning-a-view-versus-a-copy\n",
      "  df_ru['pvalue'] = spearman_correlations.apply(lambda x: x[1])\n"
     ]
    }
   ],
   "source": [
    "df_ru = df_combined[df_combined['nationality'] == 'Russian']\n",
    "last_row = df_ru.iloc[-1, 3:]\n",
    "spearman_correlations = df_ru.iloc[:-1, 3:].apply(lambda row: spearmanr(row, last_row), axis=1)\n",
    "\n",
    "df_ru['cosine'] = df_ru.iloc[:,3:].apply(lambda row: round(1-cosine(row, last_row),2), axis=1)\n",
    "df_ru['corr'] = spearman_correlations.apply(lambda x: x[0])\n",
    "df_ru['pvalue'] = spearman_correlations.apply(lambda x: x[1])"
   ]
  },
  {
   "cell_type": "code",
   "execution_count": 6,
   "metadata": {},
   "outputs": [],
   "source": [
    "df_combined.loc[df_en.index, 'cosine'] = df_en['cosine']\n",
    "df_combined.loc[df_en.index, 'corr'] = df_en['corr']\n",
    "df_combined.loc[df_en.index, 'pvalue'] = df_en['pvalue']\n",
    "df_combined.loc[df_ru.index, 'cosine'] = df_ru['cosine']\n",
    "df_combined.loc[df_ru.index, 'corr'] = df_ru['corr']\n",
    "df_combined.loc[df_ru.index, 'pvalue'] = df_ru['pvalue']"
   ]
  },
  {
   "cell_type": "code",
   "execution_count": 7,
   "metadata": {},
   "outputs": [],
   "source": [
    "df_corr = df_combined.iloc[:-2, :]"
   ]
  },
  {
   "cell_type": "markdown",
   "metadata": {},
   "source": [
    "Results for nationality..."
   ]
  },
  {
   "cell_type": "markdown",
   "metadata": {},
   "source": [
    "American"
   ]
  },
  {
   "cell_type": "code",
   "execution_count": 8,
   "metadata": {},
   "outputs": [
    {
     "data": {
      "text/html": [
       "<div>\n",
       "<style scoped>\n",
       "    .dataframe tbody tr th:only-of-type {\n",
       "        vertical-align: middle;\n",
       "    }\n",
       "\n",
       "    .dataframe tbody tr th {\n",
       "        vertical-align: top;\n",
       "    }\n",
       "\n",
       "    .dataframe thead th {\n",
       "        text-align: right;\n",
       "    }\n",
       "</style>\n",
       "<table border=\"1\" class=\"dataframe\">\n",
       "  <thead>\n",
       "    <tr style=\"text-align: right;\">\n",
       "      <th></th>\n",
       "      <th>model</th>\n",
       "      <th>local</th>\n",
       "      <th>cosine</th>\n",
       "      <th>corr</th>\n",
       "      <th>pvalue</th>\n",
       "    </tr>\n",
       "  </thead>\n",
       "  <tbody>\n",
       "    <tr>\n",
       "      <th>0</th>\n",
       "      <td>gpt-4o</td>\n",
       "      <td>EN</td>\n",
       "      <td>0.94</td>\n",
       "      <td>0.428571</td>\n",
       "      <td>0.396501</td>\n",
       "    </tr>\n",
       "    <tr>\n",
       "      <th>1</th>\n",
       "      <td>gpt-4o</td>\n",
       "      <td>RU</td>\n",
       "      <td>0.94</td>\n",
       "      <td>0.428571</td>\n",
       "      <td>0.396501</td>\n",
       "    </tr>\n",
       "    <tr>\n",
       "      <th>4</th>\n",
       "      <td>gpt-3.5-turbo</td>\n",
       "      <td>EN</td>\n",
       "      <td>0.93</td>\n",
       "      <td>0.085714</td>\n",
       "      <td>0.871743</td>\n",
       "    </tr>\n",
       "    <tr>\n",
       "      <th>5</th>\n",
       "      <td>gpt-3.5-turbo</td>\n",
       "      <td>RU</td>\n",
       "      <td>0.92</td>\n",
       "      <td>-0.142857</td>\n",
       "      <td>0.787172</td>\n",
       "    </tr>\n",
       "    <tr>\n",
       "      <th>8</th>\n",
       "      <td>yandexgpt</td>\n",
       "      <td>EN</td>\n",
       "      <td>0.94</td>\n",
       "      <td>0.428571</td>\n",
       "      <td>0.396501</td>\n",
       "    </tr>\n",
       "    <tr>\n",
       "      <th>9</th>\n",
       "      <td>yandexgpt</td>\n",
       "      <td>RU</td>\n",
       "      <td>0.93</td>\n",
       "      <td>0.028571</td>\n",
       "      <td>0.957155</td>\n",
       "    </tr>\n",
       "  </tbody>\n",
       "</table>\n",
       "</div>"
      ],
      "text/plain": [
       "           model local  cosine      corr    pvalue\n",
       "0         gpt-4o    EN    0.94  0.428571  0.396501\n",
       "1         gpt-4o    RU    0.94  0.428571  0.396501\n",
       "4  gpt-3.5-turbo    EN    0.93  0.085714  0.871743\n",
       "5  gpt-3.5-turbo    RU    0.92 -0.142857  0.787172\n",
       "8      yandexgpt    EN    0.94  0.428571  0.396501\n",
       "9      yandexgpt    RU    0.93  0.028571  0.957155"
      ]
     },
     "execution_count": 8,
     "metadata": {},
     "output_type": "execute_result"
    }
   ],
   "source": [
    "df_corr[df_corr['nationality']=='American'][['model','local','cosine','corr','pvalue']]"
   ]
  },
  {
   "cell_type": "markdown",
   "metadata": {},
   "source": [
    "Russian"
   ]
  },
  {
   "cell_type": "code",
   "execution_count": 9,
   "metadata": {},
   "outputs": [
    {
     "data": {
      "text/html": [
       "<div>\n",
       "<style scoped>\n",
       "    .dataframe tbody tr th:only-of-type {\n",
       "        vertical-align: middle;\n",
       "    }\n",
       "\n",
       "    .dataframe tbody tr th {\n",
       "        vertical-align: top;\n",
       "    }\n",
       "\n",
       "    .dataframe thead th {\n",
       "        text-align: right;\n",
       "    }\n",
       "</style>\n",
       "<table border=\"1\" class=\"dataframe\">\n",
       "  <thead>\n",
       "    <tr style=\"text-align: right;\">\n",
       "      <th></th>\n",
       "      <th>model</th>\n",
       "      <th>local</th>\n",
       "      <th>cosine</th>\n",
       "      <th>corr</th>\n",
       "      <th>pvalue</th>\n",
       "    </tr>\n",
       "  </thead>\n",
       "  <tbody>\n",
       "    <tr>\n",
       "      <th>2</th>\n",
       "      <td>gpt-4o</td>\n",
       "      <td>EN</td>\n",
       "      <td>0.93</td>\n",
       "      <td>0.542857</td>\n",
       "      <td>0.265703</td>\n",
       "    </tr>\n",
       "    <tr>\n",
       "      <th>3</th>\n",
       "      <td>gpt-4o</td>\n",
       "      <td>RU</td>\n",
       "      <td>0.92</td>\n",
       "      <td>0.771429</td>\n",
       "      <td>0.072397</td>\n",
       "    </tr>\n",
       "    <tr>\n",
       "      <th>6</th>\n",
       "      <td>gpt-3.5-turbo</td>\n",
       "      <td>EN</td>\n",
       "      <td>0.91</td>\n",
       "      <td>-0.028571</td>\n",
       "      <td>0.957155</td>\n",
       "    </tr>\n",
       "    <tr>\n",
       "      <th>7</th>\n",
       "      <td>gpt-3.5-turbo</td>\n",
       "      <td>RU</td>\n",
       "      <td>0.90</td>\n",
       "      <td>-0.200000</td>\n",
       "      <td>0.704000</td>\n",
       "    </tr>\n",
       "    <tr>\n",
       "      <th>10</th>\n",
       "      <td>yandexgpt</td>\n",
       "      <td>EN</td>\n",
       "      <td>0.90</td>\n",
       "      <td>-0.085714</td>\n",
       "      <td>0.871743</td>\n",
       "    </tr>\n",
       "    <tr>\n",
       "      <th>11</th>\n",
       "      <td>yandexgpt</td>\n",
       "      <td>RU</td>\n",
       "      <td>0.86</td>\n",
       "      <td>-0.714286</td>\n",
       "      <td>0.110787</td>\n",
       "    </tr>\n",
       "  </tbody>\n",
       "</table>\n",
       "</div>"
      ],
      "text/plain": [
       "            model local  cosine      corr    pvalue\n",
       "2          gpt-4o    EN    0.93  0.542857  0.265703\n",
       "3          gpt-4o    RU    0.92  0.771429  0.072397\n",
       "6   gpt-3.5-turbo    EN    0.91 -0.028571  0.957155\n",
       "7   gpt-3.5-turbo    RU    0.90 -0.200000  0.704000\n",
       "10      yandexgpt    EN    0.90 -0.085714  0.871743\n",
       "11      yandexgpt    RU    0.86 -0.714286  0.110787"
      ]
     },
     "execution_count": 9,
     "metadata": {},
     "output_type": "execute_result"
    }
   ],
   "source": [
    "df_corr[df_corr['nationality']=='Russian'][['model','local','cosine','corr','pvalue']]"
   ]
  }
 ],
 "metadata": {
  "kernelspec": {
   "display_name": "base",
   "language": "python",
   "name": "python3"
  },
  "language_info": {
   "codemirror_mode": {
    "name": "ipython",
    "version": 3
   },
   "file_extension": ".py",
   "mimetype": "text/x-python",
   "name": "python",
   "nbconvert_exporter": "python",
   "pygments_lexer": "ipython3",
   "version": "3.11.5"
  }
 },
 "nbformat": 4,
 "nbformat_minor": 2
}
