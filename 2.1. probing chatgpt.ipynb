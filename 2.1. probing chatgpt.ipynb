{
 "cells": [
  {
   "cell_type": "markdown",
   "metadata": {},
   "source": [
    "Probing OpenAI GPT-3.5-turbo-0125 and 4o-2024-05-13 models. Each question to be probed 10 times in a row in isolation from any context.\n",
    "\n",
    "Docs:\n",
    "https://platform.openai.com/docs/api-reference/making-requests"
   ]
  },
  {
   "cell_type": "code",
   "execution_count": null,
   "metadata": {},
   "outputs": [],
   "source": [
    "import json\n",
    "\n",
    "with open('api_keys.json') as json_file:\n",
    "    apikeys = json.load(json_file)"
   ]
  },
  {
   "cell_type": "code",
   "execution_count": 6,
   "metadata": {},
   "outputs": [],
   "source": [
    "apikey = apikeys['openai']"
   ]
  },
  {
   "cell_type": "markdown",
   "metadata": {},
   "source": [
    "Calling API, prompbing exactly one prompt each call."
   ]
  },
  {
   "cell_type": "code",
   "execution_count": 2,
   "metadata": {},
   "outputs": [],
   "source": [
    "from openai import OpenAI\n",
    "\n",
    "def get_response_from_chatgpt(prompt, gptmodel):\n",
    "    client = OpenAI(api_key=apikey)\n",
    "    response = client.chat.completions.create(\n",
    "    messages=[\n",
    "        {\n",
    "            \"role\": \"user\",\n",
    "            \"content\": prompt,\n",
    "        }\n",
    "    ],\n",
    "    model=gptmodel)\n",
    "    return response.choices[0].message.content"
   ]
  },
  {
   "cell_type": "code",
   "execution_count": 3,
   "metadata": {},
   "outputs": [],
   "source": [
    "import pandas as pd\n",
    "\n",
    "df_prompts = pd.read_csv('prompts.csv', sep=';', encoding='utf-8-sig').set_index('id')"
   ]
  },
  {
   "cell_type": "code",
   "execution_count": 4,
   "metadata": {},
   "outputs": [],
   "source": [
    "responses = []\n",
    "models = ['gpt-4o', 'gpt-3.5-turbo']\n",
    "\n",
    "for model in models:\n",
    "    for prompt in df_prompts['prompt']:\n",
    "        for i in range(10):\n",
    "            message = get_response_from_chatgpt(prompt, model)\n",
    "            responses.append((model, prompt, message))"
   ]
  },
  {
   "cell_type": "code",
   "execution_count": null,
   "metadata": {},
   "outputs": [],
   "source": [
    "df_responses = pd.DataFrame(responses, columns=['model','question','response'])\n",
    "\n",
    "df_responses.to_csv('responses_openAI.csv', sep=';', encoding='utf-8-sig')\n",
    "\n",
    "df_responses"
   ]
  }
 ],
 "metadata": {
  "kernelspec": {
   "display_name": "base",
   "language": "python",
   "name": "python3"
  },
  "language_info": {
   "codemirror_mode": {
    "name": "ipython",
    "version": 3
   },
   "file_extension": ".py",
   "mimetype": "text/x-python",
   "name": "python",
   "nbconvert_exporter": "python",
   "pygments_lexer": "ipython3",
   "version": "3.11.5"
  }
 },
 "nbformat": 4,
 "nbformat_minor": 2
}
